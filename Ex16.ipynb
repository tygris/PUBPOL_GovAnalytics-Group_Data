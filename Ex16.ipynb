{
 "cells": [
  {
   "cell_type": "markdown",
   "metadata": {},
   "source": [
    "Natalie Wellen<br>\n",
    "2/11/20<br>\n",
    "Exercise 16"
   ]
  },
  {
   "cell_type": "code",
   "execution_count": 2,
   "metadata": {},
   "outputs": [],
   "source": [
    "import pandas as pd\n",
    "from urllib.request import urlopen"
   ]
  },
  {
   "cell_type": "code",
   "execution_count": 4,
   "metadata": {},
   "outputs": [],
   "source": [
    "gitLinkYohan = \"https://docs.google.com/spreadsheets/d/e/2PACX-1vQQ_ePBaN0RuAw0aHdA4tNwScjDe6v6m2O342Hv9bekJyJADPmj_1Qg0VJwapzC4bZosu15CRhePpca/pub?gid=0&single=true&output=csv\"\n",
    "gitLinkAndy = \"https://github.com/abunnell-source/GroupData/raw/master/DFnew.csv\"\n",
    "gitLinkNatalie = \"https://github.com/tygris/PUBPOL_GovAnalytics/raw/master/tax.pkl\"\n",
    "\n",
    "yohanData = pd.read_csv(gitLinkYohan).loc[:,['Country', 'EducationIndex']]\n",
    "andyData = pd.read_csv(gitLinkAndy).loc[:,['Country', 'ReligionImportant']]\n",
    "natalieData = pd.read_pickle(urlopen(gitLinkNatalie),compression=None)"
   ]
  },
  {
   "cell_type": "code",
   "execution_count": 57,
   "metadata": {},
   "outputs": [
    {
     "data": {
      "text/html": [
       "<div>\n",
       "<style scoped>\n",
       "    .dataframe tbody tr th:only-of-type {\n",
       "        vertical-align: middle;\n",
       "    }\n",
       "\n",
       "    .dataframe tbody tr th {\n",
       "        vertical-align: top;\n",
       "    }\n",
       "\n",
       "    .dataframe thead th {\n",
       "        text-align: right;\n",
       "    }\n",
       "</style>\n",
       "<table border=\"1\" class=\"dataframe\">\n",
       "  <thead>\n",
       "    <tr style=\"text-align: right;\">\n",
       "      <th></th>\n",
       "      <th>Country</th>\n",
       "      <th>taxRevenuePercentGDP</th>\n",
       "    </tr>\n",
       "  </thead>\n",
       "  <tbody>\n",
       "    <tr>\n",
       "      <td>0</td>\n",
       "      <td>Tuvalu</td>\n",
       "      <td>1.067</td>\n",
       "    </tr>\n",
       "    <tr>\n",
       "      <td>1</td>\n",
       "      <td>Nauru</td>\n",
       "      <td>0.903</td>\n",
       "    </tr>\n",
       "    <tr>\n",
       "      <td>2</td>\n",
       "      <td>Greenland</td>\n",
       "      <td>0.774</td>\n",
       "    </tr>\n",
       "    <tr>\n",
       "      <td>3</td>\n",
       "      <td>Kiribati</td>\n",
       "      <td>0.768</td>\n",
       "    </tr>\n",
       "    <tr>\n",
       "      <td>4</td>\n",
       "      <td>Andorra</td>\n",
       "      <td>0.690</td>\n",
       "    </tr>\n",
       "  </tbody>\n",
       "</table>\n",
       "</div>"
      ],
      "text/plain": [
       "     Country  taxRevenuePercentGDP\n",
       "0     Tuvalu                 1.067\n",
       "1      Nauru                 0.903\n",
       "2  Greenland                 0.774\n",
       "3   Kiribati                 0.768\n",
       "4    Andorra                 0.690"
      ]
     },
     "execution_count": 57,
     "metadata": {},
     "output_type": "execute_result"
    }
   ],
   "source": [
    "natalieData.head()"
   ]
  },
  {
   "cell_type": "code",
   "execution_count": 58,
   "metadata": {},
   "outputs": [
    {
     "data": {
      "text/html": [
       "<div>\n",
       "<style scoped>\n",
       "    .dataframe tbody tr th:only-of-type {\n",
       "        vertical-align: middle;\n",
       "    }\n",
       "\n",
       "    .dataframe tbody tr th {\n",
       "        vertical-align: top;\n",
       "    }\n",
       "\n",
       "    .dataframe thead th {\n",
       "        text-align: right;\n",
       "    }\n",
       "</style>\n",
       "<table border=\"1\" class=\"dataframe\">\n",
       "  <thead>\n",
       "    <tr style=\"text-align: right;\">\n",
       "      <th></th>\n",
       "      <th>Country</th>\n",
       "      <th>EducationIndex</th>\n",
       "    </tr>\n",
       "  </thead>\n",
       "  <tbody>\n",
       "    <tr>\n",
       "      <td>0</td>\n",
       "      <td>Australia</td>\n",
       "      <td>0.939</td>\n",
       "    </tr>\n",
       "    <tr>\n",
       "      <td>1</td>\n",
       "      <td>Denmark</td>\n",
       "      <td>0.923</td>\n",
       "    </tr>\n",
       "    <tr>\n",
       "      <td>2</td>\n",
       "      <td>New Zealand</td>\n",
       "      <td>0.917</td>\n",
       "    </tr>\n",
       "    <tr>\n",
       "      <td>3</td>\n",
       "      <td>Norway</td>\n",
       "      <td>0.916</td>\n",
       "    </tr>\n",
       "    <tr>\n",
       "      <td>4</td>\n",
       "      <td>Germany</td>\n",
       "      <td>0.914</td>\n",
       "    </tr>\n",
       "  </tbody>\n",
       "</table>\n",
       "</div>"
      ],
      "text/plain": [
       "       Country  EducationIndex\n",
       "0    Australia           0.939\n",
       "1      Denmark           0.923\n",
       "2  New Zealand           0.917\n",
       "3       Norway           0.916\n",
       "4      Germany           0.914"
      ]
     },
     "execution_count": 58,
     "metadata": {},
     "output_type": "execute_result"
    }
   ],
   "source": [
    "yohanData.head()"
   ]
  },
  {
   "cell_type": "code",
   "execution_count": 5,
   "metadata": {},
   "outputs": [
    {
     "data": {
      "text/html": [
       "<div>\n",
       "<style scoped>\n",
       "    .dataframe tbody tr th:only-of-type {\n",
       "        vertical-align: middle;\n",
       "    }\n",
       "\n",
       "    .dataframe tbody tr th {\n",
       "        vertical-align: top;\n",
       "    }\n",
       "\n",
       "    .dataframe thead th {\n",
       "        text-align: right;\n",
       "    }\n",
       "</style>\n",
       "<table border=\"1\" class=\"dataframe\">\n",
       "  <thead>\n",
       "    <tr style=\"text-align: right;\">\n",
       "      <th></th>\n",
       "      <th>Country</th>\n",
       "      <th>ReligionImportant</th>\n",
       "    </tr>\n",
       "  </thead>\n",
       "  <tbody>\n",
       "    <tr>\n",
       "      <td>0</td>\n",
       "      <td>Estonia</td>\n",
       "      <td>0.16</td>\n",
       "    </tr>\n",
       "    <tr>\n",
       "      <td>1</td>\n",
       "      <td>Sweden</td>\n",
       "      <td>0.17</td>\n",
       "    </tr>\n",
       "    <tr>\n",
       "      <td>2</td>\n",
       "      <td>Denmark</td>\n",
       "      <td>0.19</td>\n",
       "    </tr>\n",
       "    <tr>\n",
       "      <td>3</td>\n",
       "      <td>Norway</td>\n",
       "      <td>0.21</td>\n",
       "    </tr>\n",
       "    <tr>\n",
       "      <td>4</td>\n",
       "      <td>Czech Republic</td>\n",
       "      <td>0.21</td>\n",
       "    </tr>\n",
       "  </tbody>\n",
       "</table>\n",
       "</div>"
      ],
      "text/plain": [
       "          Country  ReligionImportant\n",
       "0         Estonia               0.16\n",
       "1          Sweden               0.17\n",
       "2         Denmark               0.19\n",
       "3          Norway               0.21\n",
       "4  Czech Republic               0.21"
      ]
     },
     "execution_count": 5,
     "metadata": {},
     "output_type": "execute_result"
    }
   ],
   "source": [
    "andyData.head()"
   ]
  },
  {
   "cell_type": "code",
   "execution_count": 6,
   "metadata": {},
   "outputs": [],
   "source": [
    "#see if there are any country name spelling mismatches\n",
    "dirtyMerge1=natalieData.merge(yohanData,how='outer',indicator=True) "
   ]
  },
  {
   "cell_type": "code",
   "execution_count": 7,
   "metadata": {},
   "outputs": [
    {
     "data": {
      "text/plain": [
       "['Czech Republic',\n",
       " 'South Korea',\n",
       " 'Russian Federation',\n",
       " 'Brunei Darussalam',\n",
       " 'Bahamas',\n",
       " 'Palestine',\n",
       " 'Micronesia',\n",
       " 'Viet Nam',\n",
       " 'Swaziland',\n",
       " 'Congo',\n",
       " 'Democratic Republic of the Congo',\n",
       " 'Syrian Arab Republic',\n",
       " 'Myanmar',\n",
       " 'Gambia']"
      ]
     },
     "execution_count": 7,
     "metadata": {},
     "output_type": "execute_result"
    }
   ],
   "source": [
    "dirtyMerge1.loc[dirtyMerge1['_merge']=='right_only',\"Country\"].tolist()"
   ]
  },
  {
   "cell_type": "code",
   "execution_count": 62,
   "metadata": {},
   "outputs": [
    {
     "data": {
      "text/plain": [
       "['Tuvalu',\n",
       " 'Nauru',\n",
       " 'Greenland',\n",
       " 'Micronesia, Federated States of',\n",
       " 'Marshall Islands',\n",
       " 'Anguilla',\n",
       " 'San Marino',\n",
       " 'Czechia',\n",
       " 'French Polynesia',\n",
       " 'British Virgin Islands',\n",
       " 'Cayman Islands',\n",
       " 'American Samoa',\n",
       " 'Falkland Islands (Islas Malvinas)',\n",
       " 'Northern Mariana Islands',\n",
       " 'Faroe Islands',\n",
       " 'Macau',\n",
       " 'Cook Islands',\n",
       " 'Kosovo',\n",
       " 'Virgin Islands',\n",
       " 'Eswatini',\n",
       " 'Saint Pierre and Miquelon',\n",
       " 'Aruba',\n",
       " 'Vietnam',\n",
       " 'Gibraltar',\n",
       " 'Korea, South',\n",
       " 'Congo, Republic of the',\n",
       " 'Guam',\n",
       " 'Guernsey',\n",
       " 'New Caledonia',\n",
       " 'Gambia, The',\n",
       " 'Brunei',\n",
       " 'Bahamas, The',\n",
       " 'Wallis and Futuna',\n",
       " 'Curacao',\n",
       " 'Jersey',\n",
       " 'Russia',\n",
       " 'Bermuda',\n",
       " 'Taiwan',\n",
       " 'Monaco',\n",
       " 'Isle of Man',\n",
       " 'Burma',\n",
       " 'West Bank',\n",
       " 'Korea, North',\n",
       " 'Congo, Democratic Republic of the',\n",
       " 'Puerto Rico',\n",
       " 'Syria',\n",
       " 'Somalia']"
      ]
     },
     "execution_count": 62,
     "metadata": {},
     "output_type": "execute_result"
    }
   ],
   "source": [
    "dirtyMerge1.loc[dirtyMerge1['_merge']=='left_only',\"Country\"].tolist()"
   ]
  },
  {
   "cell_type": "markdown",
   "metadata": {},
   "source": [
    "Only two countries in yohanData did not get matched up, so now we are going to change the country names in natalieData and then merge on this."
   ]
  },
  {
   "cell_type": "code",
   "execution_count": 8,
   "metadata": {},
   "outputs": [],
   "source": [
    "# dictionary to change 'Country' names\n",
    "country_fix = {'Czechia': 'Czech Republic',\n",
    "               'Korea, South': 'South Korea',\n",
    "               'Russia': 'Russian Federation',\n",
    "               'Brunei': 'Brunei Darussalam',\n",
    "               'Bahamas, The': 'Bahamas',\n",
    "               'West Bank': 'Palestine',\n",
    "               'Micronesia, Federated States of': 'Micronesia',\n",
    "               'Vietnam': 'Viet Nam',\n",
    "               'Eswatini': 'Swaziland',\n",
    "               'Congo, Republic of the': 'Congo',\n",
    "               'Congo, Democratic Republic of the': 'Democratic Republic of the Congo',\n",
    "               'Syria': 'Syrian Arab Republic',\n",
    "               'Burma': 'Myanmar',\n",
    "               'Gambia, The': 'Gambia'}\n",
    "# use the dictionary\n",
    "natalieData.Country.replace(country_fix,inplace=True)"
   ]
  },
  {
   "cell_type": "code",
   "execution_count": 9,
   "metadata": {},
   "outputs": [],
   "source": [
    "EE = natalieData.merge(yohanData)"
   ]
  },
  {
   "cell_type": "code",
   "execution_count": 10,
   "metadata": {},
   "outputs": [
    {
     "data": {
      "text/plain": [
       "(188, 188)"
      ]
     },
     "execution_count": 10,
     "metadata": {},
     "output_type": "execute_result"
    }
   ],
   "source": [
    "len(EE), len(yohanData)"
   ]
  },
  {
   "cell_type": "code",
   "execution_count": 11,
   "metadata": {},
   "outputs": [],
   "source": [
    "#see if there are any country name spelling mismatches\n",
    "dirtyMerge2=EE.merge(andyData,how='outer',indicator=True) "
   ]
  },
  {
   "cell_type": "code",
   "execution_count": 68,
   "metadata": {},
   "outputs": [
    {
     "data": {
      "text/plain": [
       "['Vietnam',\n",
       " 'The Netherlands',\n",
       " 'Russia',\n",
       " 'Taiwan',\n",
       " 'North Macedonia',\n",
       " 'Puerto Rico',\n",
       " 'Syria',\n",
       " 'State of Palestine',\n",
       " 'Republic of the Congo',\n",
       " 'Somalia']"
      ]
     },
     "execution_count": 68,
     "metadata": {},
     "output_type": "execute_result"
    }
   ],
   "source": [
    "dirtyMerge2.loc[dirtyMerge2['_merge']=='right_only',\"Country\"].tolist()"
   ]
  },
  {
   "cell_type": "code",
   "execution_count": 70,
   "metadata": {},
   "outputs": [
    {
     "data": {
      "text/plain": [
       "['Kiribati',\n",
       " 'Andorra',\n",
       " 'Palau',\n",
       " 'Micronesia',\n",
       " 'Libya',\n",
       " 'Netherlands',\n",
       " 'Iceland',\n",
       " 'Solomon Islands',\n",
       " 'Dominica',\n",
       " 'Tonga',\n",
       " 'Lesotho',\n",
       " 'Seychelles',\n",
       " 'Eritrea',\n",
       " 'Saint Kitts and Nevis',\n",
       " 'Fiji',\n",
       " 'Barbados',\n",
       " 'Macedonia',\n",
       " 'Saint Vincent and the Grenadines',\n",
       " 'Swaziland',\n",
       " 'Samoa',\n",
       " 'Guyana',\n",
       " 'Cabo Verde',\n",
       " 'Bhutan',\n",
       " 'Vanuatu',\n",
       " 'Mongolia',\n",
       " 'Maldives',\n",
       " 'Sao Tome and Principe',\n",
       " 'Grenada',\n",
       " 'Viet Nam',\n",
       " 'Saint Lucia',\n",
       " 'Congo',\n",
       " 'Mauritius',\n",
       " 'China',\n",
       " 'Gambia',\n",
       " 'Antigua and Barbuda',\n",
       " 'Brunei Darussalam',\n",
       " 'Papua New Guinea',\n",
       " 'Guinea-Bissau',\n",
       " 'Bahamas',\n",
       " 'Gabon',\n",
       " 'Equatorial Guinea',\n",
       " 'Russian Federation',\n",
       " 'Suriname',\n",
       " 'Sierra Leone',\n",
       " 'Liechtenstein',\n",
       " 'Palestine',\n",
       " 'Timor-Leste',\n",
       " 'South Sudan',\n",
       " 'Syrian Arab Republic']"
      ]
     },
     "execution_count": 70,
     "metadata": {},
     "output_type": "execute_result"
    }
   ],
   "source": [
    "dirtyMerge2.loc[dirtyMerge2['_merge']=='left_only',\"Country\"].tolist()"
   ]
  },
  {
   "cell_type": "code",
   "execution_count": 12,
   "metadata": {},
   "outputs": [],
   "source": [
    "# dictionary to change 'Country' names\n",
    "country_fix2 = {'Vietnam': 'Viet Nam',\n",
    " 'The Netherlands': 'Netherlands',\n",
    " 'Russia': 'Russian Federation',\n",
    " 'North Macedonia': 'Macedonia',\n",
    " 'Syria': 'Syrian Arab Republic',\n",
    " 'State of Palestine': 'Palestine',\n",
    " 'Republic of the Congo': 'Congo'}\n",
    "# use the dictionary\n",
    "andyData.Country.replace(country_fix,inplace=True)"
   ]
  },
  {
   "cell_type": "code",
   "execution_count": 13,
   "metadata": {},
   "outputs": [
    {
     "data": {
      "text/html": [
       "<div>\n",
       "<style scoped>\n",
       "    .dataframe tbody tr th:only-of-type {\n",
       "        vertical-align: middle;\n",
       "    }\n",
       "\n",
       "    .dataframe tbody tr th {\n",
       "        vertical-align: top;\n",
       "    }\n",
       "\n",
       "    .dataframe thead th {\n",
       "        text-align: right;\n",
       "    }\n",
       "</style>\n",
       "<table border=\"1\" class=\"dataframe\">\n",
       "  <thead>\n",
       "    <tr style=\"text-align: right;\">\n",
       "      <th></th>\n",
       "      <th>Country</th>\n",
       "      <th>taxRevenuePercentGDP</th>\n",
       "      <th>EducationIndex</th>\n",
       "      <th>ReligionImportant</th>\n",
       "    </tr>\n",
       "  </thead>\n",
       "  <tbody>\n",
       "    <tr>\n",
       "      <td>0</td>\n",
       "      <td>Cuba</td>\n",
       "      <td>0.581</td>\n",
       "      <td>0.779</td>\n",
       "      <td>0.34</td>\n",
       "    </tr>\n",
       "    <tr>\n",
       "      <td>1</td>\n",
       "      <td>Norway</td>\n",
       "      <td>0.544</td>\n",
       "      <td>0.916</td>\n",
       "      <td>0.21</td>\n",
       "    </tr>\n",
       "    <tr>\n",
       "      <td>2</td>\n",
       "      <td>France</td>\n",
       "      <td>0.538</td>\n",
       "      <td>0.839</td>\n",
       "      <td>0.30</td>\n",
       "    </tr>\n",
       "    <tr>\n",
       "      <td>3</td>\n",
       "      <td>Finland</td>\n",
       "      <td>0.531</td>\n",
       "      <td>0.847</td>\n",
       "      <td>0.28</td>\n",
       "    </tr>\n",
       "    <tr>\n",
       "      <td>4</td>\n",
       "      <td>Denmark</td>\n",
       "      <td>0.530</td>\n",
       "      <td>0.923</td>\n",
       "      <td>0.19</td>\n",
       "    </tr>\n",
       "  </tbody>\n",
       "</table>\n",
       "</div>"
      ],
      "text/plain": [
       "   Country  taxRevenuePercentGDP  EducationIndex  ReligionImportant\n",
       "0     Cuba                 0.581           0.779               0.34\n",
       "1   Norway                 0.544           0.916               0.21\n",
       "2   France                 0.538           0.839               0.30\n",
       "3  Finland                 0.531           0.847               0.28\n",
       "4  Denmark                 0.530           0.923               0.19"
      ]
     },
     "execution_count": 13,
     "metadata": {},
     "output_type": "execute_result"
    }
   ],
   "source": [
    "REE = EE.merge(andyData)\n",
    "REE.head()"
   ]
  },
  {
   "cell_type": "code",
   "execution_count": 14,
   "metadata": {},
   "outputs": [
    {
     "data": {
      "text/plain": [
       "(142, 149)"
      ]
     },
     "execution_count": 14,
     "metadata": {},
     "output_type": "execute_result"
    }
   ],
   "source": [
    "len(REE), len(andyData)"
   ]
  },
  {
   "cell_type": "markdown",
   "metadata": {},
   "source": [
    "***\n",
    "### Save to Disk"
   ]
  },
  {
   "cell_type": "code",
   "execution_count": 74,
   "metadata": {},
   "outputs": [],
   "source": [
    "REE.to_pickle(\"REE.pkl\")\n",
    "# you will need: DF=pd.read_pickle(\"REE.pkl\")\n",
    "# or:\n",
    "# from urllib.request import urlopen\n",
    "# DF=pd.read_pickle(urlopen(\"https://..../REE.pkl\"),compression=None)"
   ]
  },
  {
   "cell_type": "code",
   "execution_count": 75,
   "metadata": {},
   "outputs": [
    {
     "data": {
      "text/plain": [
       "rpy2.rinterface.NULL"
      ]
     },
     "execution_count": 75,
     "metadata": {},
     "output_type": "execute_result"
    }
   ],
   "source": [
    "from rpy2.robjects import pandas2ri\n",
    "pandas2ri.activate()\n",
    "\n",
    "from rpy2.robjects.packages import importr\n",
    "\n",
    "base = importr('base')\n",
    "base.saveRDS(REE,file=\"REE.RDS\")\n",
    "\n",
    "#In R, you call it with: DF = readRDS(\"REE.RDS\")\n",
    "#or, if iyou read from cloud: DF = readRDS(url(\"https://..../REE.RDS\")"
   ]
  },
  {
   "cell_type": "markdown",
   "metadata": {},
   "source": [
    "For creating the devoloping country list"
   ]
  },
  {
   "cell_type": "code",
   "execution_count": 20,
   "metadata": {},
   "outputs": [],
   "source": [
    "REE.to_excel('REE_countries.xlsx', 'Sheet2',columns = ['Country'], header = False, index=False)"
   ]
  },
  {
   "cell_type": "code",
   "execution_count": 21,
   "metadata": {},
   "outputs": [],
   "source": [
    "countries = REE['Country'].tolist()"
   ]
  },
  {
   "cell_type": "code",
   "execution_count": 24,
   "metadata": {},
   "outputs": [
    {
     "data": {
      "text/plain": [
       "['Afghanistan',\n",
       " 'Albania',\n",
       " 'Algeria',\n",
       " 'Angola',\n",
       " 'Argentina',\n",
       " 'Armenia',\n",
       " 'Australia',\n",
       " 'Austria',\n",
       " 'Azerbaijan',\n",
       " 'Bahrain',\n",
       " 'Bangladesh',\n",
       " 'Belarus',\n",
       " 'Belgium',\n",
       " 'Belize',\n",
       " 'Benin',\n",
       " 'Bolivia',\n",
       " 'Bosnia and Herzegovina',\n",
       " 'Botswana',\n",
       " 'Brazil',\n",
       " 'Bulgaria',\n",
       " 'Burkina Faso',\n",
       " 'Burundi',\n",
       " 'Cambodia',\n",
       " 'Cameroon',\n",
       " 'Canada',\n",
       " 'Central African Republic',\n",
       " 'Chad',\n",
       " 'Chile',\n",
       " 'Colombia',\n",
       " 'Comoros',\n",
       " 'Costa Rica',\n",
       " \"Cote d'Ivoire\",\n",
       " 'Croatia',\n",
       " 'Cuba',\n",
       " 'Cyprus',\n",
       " 'Czech Republic',\n",
       " 'Democratic Republic of the Congo',\n",
       " 'Denmark',\n",
       " 'Djibouti',\n",
       " 'Dominican Republic',\n",
       " 'Ecuador',\n",
       " 'Egypt',\n",
       " 'El Salvador',\n",
       " 'Estonia',\n",
       " 'Ethiopia',\n",
       " 'Finland',\n",
       " 'France',\n",
       " 'Georgia',\n",
       " 'Germany',\n",
       " 'Ghana',\n",
       " 'Greece',\n",
       " 'Guatemala',\n",
       " 'Guinea',\n",
       " 'Haiti',\n",
       " 'Honduras',\n",
       " 'Hong Kong',\n",
       " 'Hungary',\n",
       " 'India',\n",
       " 'Indonesia',\n",
       " 'Iran',\n",
       " 'Iraq',\n",
       " 'Ireland',\n",
       " 'Israel',\n",
       " 'Italy',\n",
       " 'Jamaica',\n",
       " 'Japan',\n",
       " 'Jordan',\n",
       " 'Kazakhstan',\n",
       " 'Kenya',\n",
       " 'Kuwait',\n",
       " 'Kyrgyzstan',\n",
       " 'Laos',\n",
       " 'Latvia',\n",
       " 'Lebanon',\n",
       " 'Liberia',\n",
       " 'Lithuania',\n",
       " 'Luxembourg',\n",
       " 'Madagascar',\n",
       " 'Malawi',\n",
       " 'Malaysia',\n",
       " 'Mali',\n",
       " 'Malta',\n",
       " 'Mauritania',\n",
       " 'Mexico',\n",
       " 'Moldova',\n",
       " 'Montenegro',\n",
       " 'Morocco',\n",
       " 'Mozambique',\n",
       " 'Myanmar',\n",
       " 'Namibia',\n",
       " 'Nepal',\n",
       " 'New Zealand',\n",
       " 'Nicaragua',\n",
       " 'Niger',\n",
       " 'Nigeria',\n",
       " 'Norway',\n",
       " 'Oman',\n",
       " 'Pakistan',\n",
       " 'Panama',\n",
       " 'Paraguay',\n",
       " 'Peru',\n",
       " 'Philippines',\n",
       " 'Poland',\n",
       " 'Portugal',\n",
       " 'Qatar',\n",
       " 'Romania',\n",
       " 'Russian Federation',\n",
       " 'Rwanda',\n",
       " 'Saudi Arabia',\n",
       " 'Senegal',\n",
       " 'Serbia',\n",
       " 'Singapore',\n",
       " 'Slovakia',\n",
       " 'Slovenia',\n",
       " 'South Africa',\n",
       " 'South Korea',\n",
       " 'Spain',\n",
       " 'Sri Lanka',\n",
       " 'Sudan',\n",
       " 'Sweden',\n",
       " 'Switzerland',\n",
       " 'Syrian Arab Republic',\n",
       " 'Tajikistan',\n",
       " 'Tanzania',\n",
       " 'Thailand',\n",
       " 'Togo',\n",
       " 'Trinidad and Tobago',\n",
       " 'Tunisia',\n",
       " 'Turkey',\n",
       " 'Turkmenistan',\n",
       " 'Uganda',\n",
       " 'Ukraine',\n",
       " 'United Arab Emirates',\n",
       " 'United Kingdom',\n",
       " 'United States',\n",
       " 'Uruguay',\n",
       " 'Uzbekistan',\n",
       " 'Venezuela',\n",
       " 'Viet Nam',\n",
       " 'Yemen',\n",
       " 'Zambia',\n",
       " 'Zimbabwe']"
      ]
     },
     "execution_count": 24,
     "metadata": {},
     "output_type": "execute_result"
    }
   ],
   "source": [
    "sorted(countries)"
   ]
  },
  {
   "cell_type": "code",
   "execution_count": 32,
   "metadata": {},
   "outputs": [
    {
     "data": {
      "text/plain": [
       "False"
      ]
     },
     "execution_count": 32,
     "metadata": {},
     "output_type": "execute_result"
    }
   ],
   "source": [
    "'China' in andyData['Country'].unique()"
   ]
  },
  {
   "cell_type": "code",
   "execution_count": null,
   "metadata": {},
   "outputs": [],
   "source": []
  }
 ],
 "metadata": {
  "kernelspec": {
   "display_name": "Python 3",
   "language": "python",
   "name": "python3"
  },
  "language_info": {
   "codemirror_mode": {
    "name": "ipython",
    "version": 3
   },
   "file_extension": ".py",
   "mimetype": "text/x-python",
   "name": "python",
   "nbconvert_exporter": "python",
   "pygments_lexer": "ipython3",
   "version": "3.7.4"
  }
 },
 "nbformat": 4,
 "nbformat_minor": 2
}
